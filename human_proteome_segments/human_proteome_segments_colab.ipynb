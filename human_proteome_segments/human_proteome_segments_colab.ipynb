{
 "cells": [
  {
   "cell_type": "code",
   "execution_count": 3,
   "metadata": {},
   "outputs": [],
   "source": [
    "\n",
    "# Ami Sangster \n",
    "\n",
    "!git clone https://github.com/moses-lab/pLM-Visualization.git\n",
    "\n",
    "from colour_segment_functions import *"
   ]
  },
  {
   "cell_type": "code",
   "execution_count": null,
   "metadata": {},
   "outputs": [],
   "source": [
    "# make a figure of protein segments of your proteins of choice from the human proteome\n",
    "# colours reflect the high dimensional space of ProtT5\n",
    "\n",
    "\n",
    "# \"pids\" = a list of UniProt protein IDs (https://www.uniprot.org/)\n",
    "#       do not include extra spaces or commas, only put the 6 character code between the quotations\n",
    "# \"bar_names\" = list of the names to label the proteins on the bar chart\n",
    "#       these lists must be the same length (each pid must have a corresponding name for the bar chart, \n",
    "#        where the first pid corresponds to the first name)\n",
    "# the last two parameters are the height and width of the figure\n",
    "\n",
    "fig1 = make_protein_segments_figure(pids = [\"P04637\", \"O15350\", \"Q9H3D4\"],\n",
    "                                    bar_names = [\"p53\", \"p73\", \"p63\"], \n",
    "                                    height = 300, \n",
    "                                    width = 800)\n",
    "\n",
    "\n",
    "\n",
    "# please note that this is an interactive bar plot, you can click and drag to zoom and double click to reset axes\n",
    "# if you hover your mouse over the protein segments you can see:\n",
    "#           \"(segment length, pid) [segment amino acid start position, segment amino acid end position], rgb(red, green, blue)\n",
    "# red, green, and blue values span from 0-255 (inclusive)\n",
    "# please note here we use zero-based indexing, meaning the first amino acid in the protein is in position 0 (not position 1)\n",
    "# also there is a hover menu at the top right of the figure with more interactive options\n",
    "\n",
    "fig1.show()\n",
    "\n"
   ]
  },
  {
   "cell_type": "code",
   "execution_count": 5,
   "metadata": {},
   "outputs": [],
   "source": [
    "# finally, you can save the figure as an interactive html\n",
    "# meaning you can open this file in an internet browser and interact with the figure the same as you can here\n",
    "\n",
    "fig1.write_html(\"demo_protein_segments.html\")\n",
    "\n",
    "# you can find the file on the left hand side. Click on the file folder and it should be listed there.\n",
    "# Please download this file to  your desktop, once you end your colab session the files will be deleted from colab"
   ]
  }
 ],
 "metadata": {
  "kernelspec": {
   "display_name": "serv_clone",
   "language": "python",
   "name": "python3"
  },
  "language_info": {
   "codemirror_mode": {
    "name": "ipython",
    "version": 3
   },
   "file_extension": ".py",
   "mimetype": "text/x-python",
   "name": "python",
   "nbconvert_exporter": "python",
   "pygments_lexer": "ipython3",
   "version": "3.8.11"
  },
  "orig_nbformat": 4
 },
 "nbformat": 4,
 "nbformat_minor": 2
}
