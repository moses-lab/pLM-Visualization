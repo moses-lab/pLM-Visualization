{
 "cells": [
  {
   "cell_type": "code",
   "execution_count": 1,
   "metadata": {},
   "outputs": [],
   "source": [
    "\n",
    "# Ami Sangster \n",
    "\n",
    "\n",
    "from colour_segment_functions import *"
   ]
  },
  {
   "cell_type": "code",
   "execution_count": 5,
   "metadata": {},
   "outputs": [
    {
     "data": {
      "application/vnd.plotly.v1+json": {
       "config": {
        "plotlyServerURL": "https://plot.ly"
       },
       "data": [
        {
         "marker": {
          "color": "rgb(255,255,255)"
         },
         "name": "",
         "orientation": "h",
         "type": "bar",
         "x": [
          0
         ],
         "y": [
          "p53"
         ]
        },
        {
         "marker": {
          "color": "#09271c"
         },
         "name": "[0, 17], rgb(9,39,28)",
         "orientation": "h",
         "type": "bar",
         "x": [
          17
         ],
         "y": [
          "p53"
         ]
        },
        {
         "marker": {
          "color": "#0c3018"
         },
         "name": "[17, 88], rgb(12,48,24)",
         "orientation": "h",
         "type": "bar",
         "x": [
          71
         ],
         "y": [
          "p53"
         ]
        },
        {
         "marker": {
          "color": "#61297d"
         },
         "name": "[88, 142], rgb(97,41,125)",
         "orientation": "h",
         "type": "bar",
         "x": [
          54
         ],
         "y": [
          "p53"
         ]
        },
        {
         "marker": {
          "color": "#921d6a"
         },
         "name": "[142, 159], rgb(146,29,106)",
         "orientation": "h",
         "type": "bar",
         "x": [
          17
         ],
         "y": [
          "p53"
         ]
        },
        {
         "marker": {
          "color": "#893183"
         },
         "name": "[159, 191], rgb(137,49,131)",
         "orientation": "h",
         "type": "bar",
         "x": [
          32
         ],
         "y": [
          "p53"
         ]
        },
        {
         "marker": {
          "color": "#913481"
         },
         "name": "[191, 231], rgb(145,52,129)",
         "orientation": "h",
         "type": "bar",
         "x": [
          40
         ],
         "y": [
          "p53"
         ]
        },
        {
         "marker": {
          "color": "#a13976"
         },
         "name": "[231, 250], rgb(161,57,118)",
         "orientation": "h",
         "type": "bar",
         "x": [
          19
         ],
         "y": [
          "p53"
         ]
        },
        {
         "marker": {
          "color": "#a4336d"
         },
         "name": "[250, 277], rgb(164,51,109)",
         "orientation": "h",
         "type": "bar",
         "x": [
          27
         ],
         "y": [
          "p53"
         ]
        },
        {
         "marker": {
          "color": "#4dae20"
         },
         "name": "[277, 323], rgb(77,174,32)",
         "orientation": "h",
         "type": "bar",
         "x": [
          46
         ],
         "y": [
          "p53"
         ]
        },
        {
         "marker": {
          "color": "#b0ab3c"
         },
         "name": "[323, 352], rgb(176,171,60)",
         "orientation": "h",
         "type": "bar",
         "x": [
          29
         ],
         "y": [
          "p53"
         ]
        },
        {
         "marker": {
          "color": "#62e71e"
         },
         "name": "[352, 393], rgb(98,231,30)",
         "orientation": "h",
         "type": "bar",
         "x": [
          41
         ],
         "y": [
          "p53"
         ]
        },
        {
         "marker": {
          "color": "rgb(255,255,255)"
         },
         "name": "",
         "orientation": "h",
         "type": "bar",
         "x": [
          0
         ],
         "y": [
          "p53"
         ]
        },
        {
         "marker": {
          "color": "rgb(255,255,255)"
         },
         "name": "",
         "orientation": "h",
         "type": "bar",
         "x": [
          0
         ],
         "y": [
          "p73"
         ]
        },
        {
         "marker": {
          "color": "#0a281b"
         },
         "name": "[0, 32], rgb(10,40,27)",
         "orientation": "h",
         "type": "bar",
         "x": [
          32
         ],
         "y": [
          "p73"
         ]
        },
        {
         "marker": {
          "color": "#0a321c"
         },
         "name": "[32, 48], rgb(10,50,28)",
         "orientation": "h",
         "type": "bar",
         "x": [
          16
         ],
         "y": [
          "p73"
         ]
        },
        {
         "marker": {
          "color": "#0c3116"
         },
         "name": "[48, 75], rgb(12,49,22)",
         "orientation": "h",
         "type": "bar",
         "x": [
          27
         ],
         "y": [
          "p73"
         ]
        },
        {
         "marker": {
          "color": "#113d19"
         },
         "name": "[75, 124], rgb(17,61,25)",
         "orientation": "h",
         "type": "bar",
         "x": [
          49
         ],
         "y": [
          "p73"
         ]
        },
        {
         "marker": {
          "color": "#65277f"
         },
         "name": "[124, 158], rgb(101,39,127)",
         "orientation": "h",
         "type": "bar",
         "x": [
          34
         ],
         "y": [
          "p73"
         ]
        },
        {
         "marker": {
          "color": "#843188"
         },
         "name": "[158, 251], rgb(132,49,136)",
         "orientation": "h",
         "type": "bar",
         "x": [
          93
         ],
         "y": [
          "p73"
         ]
        },
        {
         "marker": {
          "color": "#a23877"
         },
         "name": "[251, 270], rgb(162,56,119)",
         "orientation": "h",
         "type": "bar",
         "x": [
          19
         ],
         "y": [
          "p73"
         ]
        },
        {
         "marker": {
          "color": "#a4346d"
         },
         "name": "[270, 299], rgb(164,52,109)",
         "orientation": "h",
         "type": "bar",
         "x": [
          29
         ],
         "y": [
          "p73"
         ]
        },
        {
         "marker": {
          "color": "#489f23"
         },
         "name": "[299, 348], rgb(72,159,35)",
         "orientation": "h",
         "type": "bar",
         "x": [
          49
         ],
         "y": [
          "p73"
         ]
        },
        {
         "marker": {
          "color": "#94733c"
         },
         "name": "[348, 382], rgb(148,115,60)",
         "orientation": "h",
         "type": "bar",
         "x": [
          34
         ],
         "y": [
          "p73"
         ]
        },
        {
         "marker": {
          "color": "#33c80b"
         },
         "name": "[382, 428], rgb(51,200,11)",
         "orientation": "h",
         "type": "bar",
         "x": [
          46
         ],
         "y": [
          "p73"
         ]
        },
        {
         "marker": {
          "color": "#35cf0c"
         },
         "name": "[428, 491], rgb(53,207,12)",
         "orientation": "h",
         "type": "bar",
         "x": [
          63
         ],
         "y": [
          "p73"
         ]
        },
        {
         "marker": {
          "color": "#e99b53"
         },
         "name": "[491, 545], rgb(233,155,83)",
         "orientation": "h",
         "type": "bar",
         "x": [
          54
         ],
         "y": [
          "p73"
         ]
        },
        {
         "marker": {
          "color": "#9ae620"
         },
         "name": "[545, 596], rgb(154,230,32)",
         "orientation": "h",
         "type": "bar",
         "x": [
          51
         ],
         "y": [
          "p73"
         ]
        },
        {
         "marker": {
          "color": "#7fee11"
         },
         "name": "[596, 636], rgb(127,238,17)",
         "orientation": "h",
         "type": "bar",
         "x": [
          40
         ],
         "y": [
          "p73"
         ]
        },
        {
         "marker": {
          "color": "rgb(255,255,255)"
         },
         "name": "",
         "orientation": "h",
         "type": "bar",
         "x": [
          0
         ],
         "y": [
          "p73"
         ]
        },
        {
         "marker": {
          "color": "rgb(255,255,255)"
         },
         "name": "",
         "orientation": "h",
         "type": "bar",
         "x": [
          0
         ],
         "y": [
          "p63"
         ]
        },
        {
         "marker": {
          "color": "#051926"
         },
         "name": "[0, 47], rgb(5,25,38)",
         "orientation": "h",
         "type": "bar",
         "x": [
          47
         ],
         "y": [
          "p63"
         ]
        },
        {
         "marker": {
          "color": "#0b291a"
         },
         "name": "[47, 76], rgb(11,41,26)",
         "orientation": "h",
         "type": "bar",
         "x": [
          29
         ],
         "y": [
          "p63"
         ]
        },
        {
         "marker": {
          "color": "#0a2e1c"
         },
         "name": "[76, 98], rgb(10,46,28)",
         "orientation": "h",
         "type": "bar",
         "x": [
          22
         ],
         "y": [
          "p63"
         ]
        },
        {
         "marker": {
          "color": "#0c3017"
         },
         "name": "[98, 117], rgb(12,48,23)",
         "orientation": "h",
         "type": "bar",
         "x": [
          19
         ],
         "y": [
          "p63"
         ]
        },
        {
         "marker": {
          "color": "#114119"
         },
         "name": "[117, 174], rgb(17,65,25)",
         "orientation": "h",
         "type": "bar",
         "x": [
          57
         ],
         "y": [
          "p63"
         ]
        },
        {
         "marker": {
          "color": "#672780"
         },
         "name": "[174, 208], rgb(103,39,128)",
         "orientation": "h",
         "type": "bar",
         "x": [
          34
         ],
         "y": [
          "p63"
         ]
        },
        {
         "marker": {
          "color": "#8e3484"
         },
         "name": "[208, 301], rgb(142,52,132)",
         "orientation": "h",
         "type": "bar",
         "x": [
          93
         ],
         "y": [
          "p63"
         ]
        },
        {
         "marker": {
          "color": "#a03777"
         },
         "name": "[301, 320], rgb(160,55,119)",
         "orientation": "h",
         "type": "bar",
         "x": [
          19
         ],
         "y": [
          "p63"
         ]
        },
        {
         "marker": {
          "color": "#a4336e"
         },
         "name": "[320, 348], rgb(164,51,110)",
         "orientation": "h",
         "type": "bar",
         "x": [
          28
         ],
         "y": [
          "p63"
         ]
        },
        {
         "marker": {
          "color": "#46a020"
         },
         "name": "[348, 395], rgb(70,160,32)",
         "orientation": "h",
         "type": "bar",
         "x": [
          47
         ],
         "y": [
          "p63"
         ]
        },
        {
         "marker": {
          "color": "#74821d"
         },
         "name": "[395, 450], rgb(116,130,29)",
         "orientation": "h",
         "type": "bar",
         "x": [
          55
         ],
         "y": [
          "p63"
         ]
        },
        {
         "marker": {
          "color": "#33cd0b"
         },
         "name": "[450, 497], rgb(51,205,11)",
         "orientation": "h",
         "type": "bar",
         "x": [
          47
         ],
         "y": [
          "p63"
         ]
        },
        {
         "marker": {
          "color": "#36da08"
         },
         "name": "[497, 519], rgb(54,218,8)",
         "orientation": "h",
         "type": "bar",
         "x": [
          22
         ],
         "y": [
          "p63"
         ]
        },
        {
         "marker": {
          "color": "#3ccf0e"
         },
         "name": "[519, 547], rgb(60,207,14)",
         "orientation": "h",
         "type": "bar",
         "x": [
          28
         ],
         "y": [
          "p63"
         ]
        },
        {
         "marker": {
          "color": "#e99e54"
         },
         "name": "[547, 610], rgb(233,158,84)",
         "orientation": "h",
         "type": "bar",
         "x": [
          63
         ],
         "y": [
          "p63"
         ]
        },
        {
         "marker": {
          "color": "#69e515"
         },
         "name": "[610, 633], rgb(105,229,21)",
         "orientation": "h",
         "type": "bar",
         "x": [
          23
         ],
         "y": [
          "p63"
         ]
        },
        {
         "marker": {
          "color": "#81ed12"
         },
         "name": "[633, 680], rgb(129,237,18)",
         "orientation": "h",
         "type": "bar",
         "x": [
          47
         ],
         "y": [
          "p63"
         ]
        },
        {
         "marker": {
          "color": "rgb(255,255,255)"
         },
         "name": "",
         "orientation": "h",
         "type": "bar",
         "x": [
          0
         ],
         "y": [
          "p63"
         ]
        }
       ],
       "layout": {
        "barmode": "stack",
        "height": 300,
        "hoverlabel": {
         "namelength": -1
        },
        "plot_bgcolor": "rgb(255,255,255)",
        "showlegend": false,
        "template": {
         "data": {
          "bar": [
           {
            "error_x": {
             "color": "#2a3f5f"
            },
            "error_y": {
             "color": "#2a3f5f"
            },
            "marker": {
             "line": {
              "color": "#E5ECF6",
              "width": 0.5
             },
             "pattern": {
              "fillmode": "overlay",
              "size": 10,
              "solidity": 0.2
             }
            },
            "type": "bar"
           }
          ],
          "barpolar": [
           {
            "marker": {
             "line": {
              "color": "#E5ECF6",
              "width": 0.5
             },
             "pattern": {
              "fillmode": "overlay",
              "size": 10,
              "solidity": 0.2
             }
            },
            "type": "barpolar"
           }
          ],
          "carpet": [
           {
            "aaxis": {
             "endlinecolor": "#2a3f5f",
             "gridcolor": "white",
             "linecolor": "white",
             "minorgridcolor": "white",
             "startlinecolor": "#2a3f5f"
            },
            "baxis": {
             "endlinecolor": "#2a3f5f",
             "gridcolor": "white",
             "linecolor": "white",
             "minorgridcolor": "white",
             "startlinecolor": "#2a3f5f"
            },
            "type": "carpet"
           }
          ],
          "choropleth": [
           {
            "colorbar": {
             "outlinewidth": 0,
             "ticks": ""
            },
            "type": "choropleth"
           }
          ],
          "contour": [
           {
            "colorbar": {
             "outlinewidth": 0,
             "ticks": ""
            },
            "colorscale": [
             [
              0,
              "#0d0887"
             ],
             [
              0.1111111111111111,
              "#46039f"
             ],
             [
              0.2222222222222222,
              "#7201a8"
             ],
             [
              0.3333333333333333,
              "#9c179e"
             ],
             [
              0.4444444444444444,
              "#bd3786"
             ],
             [
              0.5555555555555556,
              "#d8576b"
             ],
             [
              0.6666666666666666,
              "#ed7953"
             ],
             [
              0.7777777777777778,
              "#fb9f3a"
             ],
             [
              0.8888888888888888,
              "#fdca26"
             ],
             [
              1,
              "#f0f921"
             ]
            ],
            "type": "contour"
           }
          ],
          "contourcarpet": [
           {
            "colorbar": {
             "outlinewidth": 0,
             "ticks": ""
            },
            "type": "contourcarpet"
           }
          ],
          "heatmap": [
           {
            "colorbar": {
             "outlinewidth": 0,
             "ticks": ""
            },
            "colorscale": [
             [
              0,
              "#0d0887"
             ],
             [
              0.1111111111111111,
              "#46039f"
             ],
             [
              0.2222222222222222,
              "#7201a8"
             ],
             [
              0.3333333333333333,
              "#9c179e"
             ],
             [
              0.4444444444444444,
              "#bd3786"
             ],
             [
              0.5555555555555556,
              "#d8576b"
             ],
             [
              0.6666666666666666,
              "#ed7953"
             ],
             [
              0.7777777777777778,
              "#fb9f3a"
             ],
             [
              0.8888888888888888,
              "#fdca26"
             ],
             [
              1,
              "#f0f921"
             ]
            ],
            "type": "heatmap"
           }
          ],
          "heatmapgl": [
           {
            "colorbar": {
             "outlinewidth": 0,
             "ticks": ""
            },
            "colorscale": [
             [
              0,
              "#0d0887"
             ],
             [
              0.1111111111111111,
              "#46039f"
             ],
             [
              0.2222222222222222,
              "#7201a8"
             ],
             [
              0.3333333333333333,
              "#9c179e"
             ],
             [
              0.4444444444444444,
              "#bd3786"
             ],
             [
              0.5555555555555556,
              "#d8576b"
             ],
             [
              0.6666666666666666,
              "#ed7953"
             ],
             [
              0.7777777777777778,
              "#fb9f3a"
             ],
             [
              0.8888888888888888,
              "#fdca26"
             ],
             [
              1,
              "#f0f921"
             ]
            ],
            "type": "heatmapgl"
           }
          ],
          "histogram": [
           {
            "marker": {
             "pattern": {
              "fillmode": "overlay",
              "size": 10,
              "solidity": 0.2
             }
            },
            "type": "histogram"
           }
          ],
          "histogram2d": [
           {
            "colorbar": {
             "outlinewidth": 0,
             "ticks": ""
            },
            "colorscale": [
             [
              0,
              "#0d0887"
             ],
             [
              0.1111111111111111,
              "#46039f"
             ],
             [
              0.2222222222222222,
              "#7201a8"
             ],
             [
              0.3333333333333333,
              "#9c179e"
             ],
             [
              0.4444444444444444,
              "#bd3786"
             ],
             [
              0.5555555555555556,
              "#d8576b"
             ],
             [
              0.6666666666666666,
              "#ed7953"
             ],
             [
              0.7777777777777778,
              "#fb9f3a"
             ],
             [
              0.8888888888888888,
              "#fdca26"
             ],
             [
              1,
              "#f0f921"
             ]
            ],
            "type": "histogram2d"
           }
          ],
          "histogram2dcontour": [
           {
            "colorbar": {
             "outlinewidth": 0,
             "ticks": ""
            },
            "colorscale": [
             [
              0,
              "#0d0887"
             ],
             [
              0.1111111111111111,
              "#46039f"
             ],
             [
              0.2222222222222222,
              "#7201a8"
             ],
             [
              0.3333333333333333,
              "#9c179e"
             ],
             [
              0.4444444444444444,
              "#bd3786"
             ],
             [
              0.5555555555555556,
              "#d8576b"
             ],
             [
              0.6666666666666666,
              "#ed7953"
             ],
             [
              0.7777777777777778,
              "#fb9f3a"
             ],
             [
              0.8888888888888888,
              "#fdca26"
             ],
             [
              1,
              "#f0f921"
             ]
            ],
            "type": "histogram2dcontour"
           }
          ],
          "mesh3d": [
           {
            "colorbar": {
             "outlinewidth": 0,
             "ticks": ""
            },
            "type": "mesh3d"
           }
          ],
          "parcoords": [
           {
            "line": {
             "colorbar": {
              "outlinewidth": 0,
              "ticks": ""
             }
            },
            "type": "parcoords"
           }
          ],
          "pie": [
           {
            "automargin": true,
            "type": "pie"
           }
          ],
          "scatter": [
           {
            "fillpattern": {
             "fillmode": "overlay",
             "size": 10,
             "solidity": 0.2
            },
            "type": "scatter"
           }
          ],
          "scatter3d": [
           {
            "line": {
             "colorbar": {
              "outlinewidth": 0,
              "ticks": ""
             }
            },
            "marker": {
             "colorbar": {
              "outlinewidth": 0,
              "ticks": ""
             }
            },
            "type": "scatter3d"
           }
          ],
          "scattercarpet": [
           {
            "marker": {
             "colorbar": {
              "outlinewidth": 0,
              "ticks": ""
             }
            },
            "type": "scattercarpet"
           }
          ],
          "scattergeo": [
           {
            "marker": {
             "colorbar": {
              "outlinewidth": 0,
              "ticks": ""
             }
            },
            "type": "scattergeo"
           }
          ],
          "scattergl": [
           {
            "marker": {
             "colorbar": {
              "outlinewidth": 0,
              "ticks": ""
             }
            },
            "type": "scattergl"
           }
          ],
          "scattermapbox": [
           {
            "marker": {
             "colorbar": {
              "outlinewidth": 0,
              "ticks": ""
             }
            },
            "type": "scattermapbox"
           }
          ],
          "scatterpolar": [
           {
            "marker": {
             "colorbar": {
              "outlinewidth": 0,
              "ticks": ""
             }
            },
            "type": "scatterpolar"
           }
          ],
          "scatterpolargl": [
           {
            "marker": {
             "colorbar": {
              "outlinewidth": 0,
              "ticks": ""
             }
            },
            "type": "scatterpolargl"
           }
          ],
          "scatterternary": [
           {
            "marker": {
             "colorbar": {
              "outlinewidth": 0,
              "ticks": ""
             }
            },
            "type": "scatterternary"
           }
          ],
          "surface": [
           {
            "colorbar": {
             "outlinewidth": 0,
             "ticks": ""
            },
            "colorscale": [
             [
              0,
              "#0d0887"
             ],
             [
              0.1111111111111111,
              "#46039f"
             ],
             [
              0.2222222222222222,
              "#7201a8"
             ],
             [
              0.3333333333333333,
              "#9c179e"
             ],
             [
              0.4444444444444444,
              "#bd3786"
             ],
             [
              0.5555555555555556,
              "#d8576b"
             ],
             [
              0.6666666666666666,
              "#ed7953"
             ],
             [
              0.7777777777777778,
              "#fb9f3a"
             ],
             [
              0.8888888888888888,
              "#fdca26"
             ],
             [
              1,
              "#f0f921"
             ]
            ],
            "type": "surface"
           }
          ],
          "table": [
           {
            "cells": {
             "fill": {
              "color": "#EBF0F8"
             },
             "line": {
              "color": "white"
             }
            },
            "header": {
             "fill": {
              "color": "#C8D4E3"
             },
             "line": {
              "color": "white"
             }
            },
            "type": "table"
           }
          ]
         },
         "layout": {
          "annotationdefaults": {
           "arrowcolor": "#2a3f5f",
           "arrowhead": 0,
           "arrowwidth": 1
          },
          "autotypenumbers": "strict",
          "coloraxis": {
           "colorbar": {
            "outlinewidth": 0,
            "ticks": ""
           }
          },
          "colorscale": {
           "diverging": [
            [
             0,
             "#8e0152"
            ],
            [
             0.1,
             "#c51b7d"
            ],
            [
             0.2,
             "#de77ae"
            ],
            [
             0.3,
             "#f1b6da"
            ],
            [
             0.4,
             "#fde0ef"
            ],
            [
             0.5,
             "#f7f7f7"
            ],
            [
             0.6,
             "#e6f5d0"
            ],
            [
             0.7,
             "#b8e186"
            ],
            [
             0.8,
             "#7fbc41"
            ],
            [
             0.9,
             "#4d9221"
            ],
            [
             1,
             "#276419"
            ]
           ],
           "sequential": [
            [
             0,
             "#0d0887"
            ],
            [
             0.1111111111111111,
             "#46039f"
            ],
            [
             0.2222222222222222,
             "#7201a8"
            ],
            [
             0.3333333333333333,
             "#9c179e"
            ],
            [
             0.4444444444444444,
             "#bd3786"
            ],
            [
             0.5555555555555556,
             "#d8576b"
            ],
            [
             0.6666666666666666,
             "#ed7953"
            ],
            [
             0.7777777777777778,
             "#fb9f3a"
            ],
            [
             0.8888888888888888,
             "#fdca26"
            ],
            [
             1,
             "#f0f921"
            ]
           ],
           "sequentialminus": [
            [
             0,
             "#0d0887"
            ],
            [
             0.1111111111111111,
             "#46039f"
            ],
            [
             0.2222222222222222,
             "#7201a8"
            ],
            [
             0.3333333333333333,
             "#9c179e"
            ],
            [
             0.4444444444444444,
             "#bd3786"
            ],
            [
             0.5555555555555556,
             "#d8576b"
            ],
            [
             0.6666666666666666,
             "#ed7953"
            ],
            [
             0.7777777777777778,
             "#fb9f3a"
            ],
            [
             0.8888888888888888,
             "#fdca26"
            ],
            [
             1,
             "#f0f921"
            ]
           ]
          },
          "colorway": [
           "#636efa",
           "#EF553B",
           "#00cc96",
           "#ab63fa",
           "#FFA15A",
           "#19d3f3",
           "#FF6692",
           "#B6E880",
           "#FF97FF",
           "#FECB52"
          ],
          "font": {
           "color": "#2a3f5f"
          },
          "geo": {
           "bgcolor": "white",
           "lakecolor": "white",
           "landcolor": "#E5ECF6",
           "showlakes": true,
           "showland": true,
           "subunitcolor": "white"
          },
          "hoverlabel": {
           "align": "left"
          },
          "hovermode": "closest",
          "mapbox": {
           "style": "light"
          },
          "paper_bgcolor": "white",
          "plot_bgcolor": "#E5ECF6",
          "polar": {
           "angularaxis": {
            "gridcolor": "white",
            "linecolor": "white",
            "ticks": ""
           },
           "bgcolor": "#E5ECF6",
           "radialaxis": {
            "gridcolor": "white",
            "linecolor": "white",
            "ticks": ""
           }
          },
          "scene": {
           "xaxis": {
            "backgroundcolor": "#E5ECF6",
            "gridcolor": "white",
            "gridwidth": 2,
            "linecolor": "white",
            "showbackground": true,
            "ticks": "",
            "zerolinecolor": "white"
           },
           "yaxis": {
            "backgroundcolor": "#E5ECF6",
            "gridcolor": "white",
            "gridwidth": 2,
            "linecolor": "white",
            "showbackground": true,
            "ticks": "",
            "zerolinecolor": "white"
           },
           "zaxis": {
            "backgroundcolor": "#E5ECF6",
            "gridcolor": "white",
            "gridwidth": 2,
            "linecolor": "white",
            "showbackground": true,
            "ticks": "",
            "zerolinecolor": "white"
           }
          },
          "shapedefaults": {
           "line": {
            "color": "#2a3f5f"
           }
          },
          "ternary": {
           "aaxis": {
            "gridcolor": "white",
            "linecolor": "white",
            "ticks": ""
           },
           "baxis": {
            "gridcolor": "white",
            "linecolor": "white",
            "ticks": ""
           },
           "bgcolor": "#E5ECF6",
           "caxis": {
            "gridcolor": "white",
            "linecolor": "white",
            "ticks": ""
           }
          },
          "title": {
           "x": 0.05
          },
          "xaxis": {
           "automargin": true,
           "gridcolor": "white",
           "linecolor": "white",
           "ticks": "",
           "title": {
            "standoff": 15
           },
           "zerolinecolor": "white",
           "zerolinewidth": 2
          },
          "yaxis": {
           "automargin": true,
           "gridcolor": "white",
           "linecolor": "white",
           "ticks": "",
           "title": {
            "standoff": 15
           },
           "zerolinecolor": "white",
           "zerolinewidth": 2
          }
         }
        },
        "width": 800
       }
      }
     },
     "metadata": {},
     "output_type": "display_data"
    }
   ],
   "source": [
    "# make a figure of protein segments of your proteins of choice from the human proteome\n",
    "# colours reflect the high dimensional space of ProtT5\n",
    "\n",
    "\n",
    "# \"pids\" = a list of UniProt protein IDs (https://www.uniprot.org/)\n",
    "#       do not include extra spaces or commas, only put the 6 character code between the quotations\n",
    "# \"bar_names\" = list of the names to label the proteins on the bar chart\n",
    "#       these lists must be the same length (each pid must have a corresponding name for the bar chart, \n",
    "#        where the first pid corresponds to the first name)\n",
    "# the last two parameters are the height and width of the figure\n",
    "\n",
    "\n",
    "fig1 = make_protein_segments_figure(pids = [\"P04637\", \"O15350\", \"Q9H3D4\"],\n",
    "                                    bar_names = [\"p53\", \"p73\", \"p63\"], \n",
    "                                    height = 300, \n",
    "                                    width = 800,\n",
    "                                    data_path = \"human_protein_segments_umap_3D.tsv\")\n",
    "\n",
    "\n",
    "\n",
    "# please note that this is an interactive bar plot, you can click and drag to zoom and double click to reset axes\n",
    "# if you hover your mouse over the protein segments you can see:\n",
    "#           \"(segment length, pid) [segment amino acid start position, segment amino acid end position], rgb(red, green, blue)\n",
    "# red, green, and blue values span from 0-255 (inclusive)\n",
    "# please note here we use zero-based indexing, meaning the first amino acid in the protein is in position 0 (not position 1)\n",
    "# also there is a hover menu at the top right of the figure with more interactive options\n",
    "\n",
    "fig1.show()\n",
    "\n"
   ]
  },
  {
   "cell_type": "code",
   "execution_count": 3,
   "metadata": {},
   "outputs": [],
   "source": [
    "# finally, you can save the figure as an interactive html\n",
    "# meaning you can open this file in an internet browser and interact with the figure the same as you can here\n",
    "\n",
    "fig1.write_html(\"demo_protein_segments.html\")\n"
   ]
  }
 ],
 "metadata": {
  "kernelspec": {
   "display_name": "serv_clone",
   "language": "python",
   "name": "python3"
  },
  "language_info": {
   "codemirror_mode": {
    "name": "ipython",
    "version": 3
   },
   "file_extension": ".py",
   "mimetype": "text/x-python",
   "name": "python",
   "nbconvert_exporter": "python",
   "pygments_lexer": "ipython3",
   "version": "3.8.11"
  },
  "orig_nbformat": 4
 },
 "nbformat": 4,
 "nbformat_minor": 2
}
